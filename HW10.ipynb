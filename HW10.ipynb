{
 "cells": [
  {
   "cell_type": "markdown",
   "id": "e4de2ada-9e04-4ccc-b204-ffe9edff0486",
   "metadata": {},
   "source": [
    "# Q1\n",
    "\n",
    "Gaussian Processes (GPs) and Stochastic Processes\n",
    "- Stochastic Process: A collection of random variables indexed by time or space, e.g., $\\left\\{X_t\\right\\}_{t \\in T}$, where each $X_t$ is a random variable.\n",
    "- Gaussian Process: A stochastic process $f(x)$ where for any finite set $x_1, \\ldots, x_n$, the joint distribution $\\left(f\\left(x_1\\right), \\ldots, f\\left(x_n\\right)\\right)$ is multivariate normal. Specified by:\n",
    "\n",
    "$$\n",
    "f(x) \\sim \\mathcal{G P}\\left(m(x), k\\left(x, x^{\\prime}\\right)\\right)\n",
    "$$\n",
    "\n",
    "where $m(x)$ is the mean function and $k\\left(x, x^{\\prime}\\right)$ is the covariance (kernel) function.\n",
    "\n",
    "Variational Inference using ELBO\n",
    "- Variational Inference (VI) approximates the true posterior $p(\\theta \\mid x)$ with a simpler distribution $q(\\theta)$ by minimizing KL divergence:\n",
    "\n",
    "$$\n",
    "\\mathrm{KL}(q(\\theta) \\| p(\\theta \\mid x))=\\log p(x)-\\operatorname{ELBO}(q)\n",
    "$$\n",
    "\n",
    "- Evidence Lower Bound (ELBO):\n",
    "\n",
    "$$\n",
    "\\operatorname{ELBO}(q)=\\mathbb{E}_{q(\\theta)}[\\log p(x, \\theta)]-\\mathbb{E}_{q(\\theta)}[\\log q(\\theta)]\n",
    "$$\n",
    "\n",
    "\n",
    "Maximizing ELBO $\\approx$ maximizing the marginal likelihood while regularizing with KL divergence."
   ]
  },
  {
   "cell_type": "code",
   "execution_count": 1,
   "id": "34de1af8-aa24-4a5d-a168-558e4f4a9700",
   "metadata": {},
   "outputs": [
    {
     "name": "stderr",
     "output_type": "stream",
     "text": [
      "Auto-assigning NUTS sampler...\n",
      "Initializing NUTS using jitter+adapt_diag...\n",
      "Multiprocess sampling (2 chains in 4 jobs)\n",
      "NUTS: [ℓ, η, σ]\n"
     ]
    },
    {
     "data": {
      "text/html": [
       "\n",
       "<style>\n",
       "    /* Turns off some styling */\n",
       "    progress {\n",
       "        /* gets rid of default border in Firefox and Opera. */\n",
       "        border: none;\n",
       "        /* Needs to be in here for Safari polyfill so background images work as expected. */\n",
       "        background-size: auto;\n",
       "    }\n",
       "    progress:not([value]), progress:not([value])::-webkit-progress-bar {\n",
       "        background: repeating-linear-gradient(45deg, #7e7e7e, #7e7e7e 10px, #5c5c5c 10px, #5c5c5c 20px);\n",
       "    }\n",
       "    .progress-bar-interrupted, .progress-bar-interrupted::-webkit-progress-bar {\n",
       "        background: #F44336;\n",
       "    }\n",
       "</style>\n"
      ],
      "text/plain": [
       "<IPython.core.display.HTML object>"
      ]
     },
     "metadata": {},
     "output_type": "display_data"
    },
    {
     "data": {
      "text/html": [
       "\n",
       "    <div>\n",
       "      <progress value='4000' class='' max='4000' style='width:300px; height:20px; vertical-align: middle;'></progress>\n",
       "      100.00% [4000/4000 00:53&lt;00:00 Sampling 2 chains, 0 divergences]\n",
       "    </div>\n",
       "    "
      ],
      "text/plain": [
       "<IPython.core.display.HTML object>"
      ]
     },
     "metadata": {},
     "output_type": "display_data"
    },
    {
     "name": "stderr",
     "output_type": "stream",
     "text": [
      "Sampling 2 chains for 1_000 tune and 1_000 draw iterations (2_000 + 2_000 draws total) took 53 seconds.\n",
      "We recommend running at least 4 chains for robust computation of convergence diagnostics\n",
      "Sampling: [f_pred]\n"
     ]
    },
    {
     "data": {
      "text/html": [
       "\n",
       "<style>\n",
       "    /* Turns off some styling */\n",
       "    progress {\n",
       "        /* gets rid of default border in Firefox and Opera. */\n",
       "        border: none;\n",
       "        /* Needs to be in here for Safari polyfill so background images work as expected. */\n",
       "        background-size: auto;\n",
       "    }\n",
       "    progress:not([value]), progress:not([value])::-webkit-progress-bar {\n",
       "        background: repeating-linear-gradient(45deg, #7e7e7e, #7e7e7e 10px, #5c5c5c 10px, #5c5c5c 20px);\n",
       "    }\n",
       "    .progress-bar-interrupted, .progress-bar-interrupted::-webkit-progress-bar {\n",
       "        background: #F44336;\n",
       "    }\n",
       "</style>\n"
      ],
      "text/plain": [
       "<IPython.core.display.HTML object>"
      ]
     },
     "metadata": {},
     "output_type": "display_data"
    },
    {
     "data": {
      "text/html": [
       "\n",
       "    <div>\n",
       "      <progress value='2000' class='' max='2000' style='width:300px; height:20px; vertical-align: middle;'></progress>\n",
       "      100.00% [2000/2000 00:45&lt;00:00]\n",
       "    </div>\n",
       "    "
      ],
      "text/plain": [
       "<IPython.core.display.HTML object>"
      ]
     },
     "metadata": {},
     "output_type": "display_data"
    },
    {
     "ename": "KeyError",
     "evalue": "'f_pred'",
     "output_type": "error",
     "traceback": [
      "\u001b[0;31m---------------------------------------------------------------------------\u001b[0m",
      "\u001b[0;31mKeyError\u001b[0m                                  Traceback (most recent call last)",
      "Cell \u001b[0;32mIn[1], line 30\u001b[0m\n\u001b[1;32m     28\u001b[0m \u001b[38;5;66;03m# Plot\u001b[39;00m\n\u001b[1;32m     29\u001b[0m plt\u001b[38;5;241m.\u001b[39mplot(X, y, \u001b[38;5;124m\"\u001b[39m\u001b[38;5;124mo\u001b[39m\u001b[38;5;124m\"\u001b[39m, label\u001b[38;5;241m=\u001b[39m\u001b[38;5;124m\"\u001b[39m\u001b[38;5;124mObserved data\u001b[39m\u001b[38;5;124m\"\u001b[39m)\n\u001b[0;32m---> 30\u001b[0m plt\u001b[38;5;241m.\u001b[39mplot(X_new, \u001b[43mpred_samples\u001b[49m\u001b[43m[\u001b[49m\u001b[38;5;124;43m\"\u001b[39;49m\u001b[38;5;124;43mf_pred\u001b[39;49m\u001b[38;5;124;43m\"\u001b[39;49m\u001b[43m]\u001b[49m\u001b[38;5;241m.\u001b[39mmean(\u001b[38;5;241m0\u001b[39m), label\u001b[38;5;241m=\u001b[39m\u001b[38;5;124m\"\u001b[39m\u001b[38;5;124mPosterior mean\u001b[39m\u001b[38;5;124m\"\u001b[39m)\n\u001b[1;32m     31\u001b[0m plt\u001b[38;5;241m.\u001b[39mfill_between(X_new\u001b[38;5;241m.\u001b[39mravel(), \n\u001b[1;32m     32\u001b[0m                  np\u001b[38;5;241m.\u001b[39mpercentile(pred_samples[\u001b[38;5;124m\"\u001b[39m\u001b[38;5;124mf_pred\u001b[39m\u001b[38;5;124m\"\u001b[39m], \u001b[38;5;241m5\u001b[39m, axis\u001b[38;5;241m=\u001b[39m\u001b[38;5;241m0\u001b[39m),\n\u001b[1;32m     33\u001b[0m                  np\u001b[38;5;241m.\u001b[39mpercentile(pred_samples[\u001b[38;5;124m\"\u001b[39m\u001b[38;5;124mf_pred\u001b[39m\u001b[38;5;124m\"\u001b[39m], \u001b[38;5;241m95\u001b[39m, axis\u001b[38;5;241m=\u001b[39m\u001b[38;5;241m0\u001b[39m), alpha\u001b[38;5;241m=\u001b[39m\u001b[38;5;241m0.3\u001b[39m)\n\u001b[1;32m     34\u001b[0m plt\u001b[38;5;241m.\u001b[39mlegend()\n",
      "File \u001b[0;32m/opt/conda/lib/python3.11/site-packages/arviz/data/inference_data.py:271\u001b[0m, in \u001b[0;36mInferenceData.__getitem__\u001b[0;34m(self, key)\u001b[0m\n\u001b[1;32m    269\u001b[0m \u001b[38;5;250m\u001b[39m\u001b[38;5;124;03m\"\"\"Get item by key.\"\"\"\u001b[39;00m\n\u001b[1;32m    270\u001b[0m \u001b[38;5;28;01mif\u001b[39;00m key \u001b[38;5;129;01mnot\u001b[39;00m \u001b[38;5;129;01min\u001b[39;00m \u001b[38;5;28mself\u001b[39m\u001b[38;5;241m.\u001b[39m_groups_all:\n\u001b[0;32m--> 271\u001b[0m     \u001b[38;5;28;01mraise\u001b[39;00m \u001b[38;5;167;01mKeyError\u001b[39;00m(key)\n\u001b[1;32m    272\u001b[0m \u001b[38;5;28;01mreturn\u001b[39;00m \u001b[38;5;28mgetattr\u001b[39m(\u001b[38;5;28mself\u001b[39m, key)\n",
      "\u001b[0;31mKeyError\u001b[0m: 'f_pred'"
     ]
    },
    {
     "data": {
      "image/png": "[encoded data removed]",
      "text/plain": [
       "<Figure size 640x480 with 1 Axes>"
      ]
     },
     "metadata": {},
     "output_type": "display_data"
    }
   ],
   "source": [
    "# Q2\n",
    "import pymc as pm\n",
    "import numpy as np\n",
    "import matplotlib.pyplot as plt\n",
    "\n",
    "# Simulated dataset: 1D location → house price\n",
    "X = np.linspace(0, 10, 30)[:, None]\n",
    "y = np.sin(X).ravel() + 0.3 * np.random.randn(30)\n",
    "\n",
    "with pm.Model() as gp_model:\n",
    "    # Define GP prior\n",
    "    ℓ = pm.Gamma(\"ℓ\", alpha=2, beta=1)\n",
    "    η = pm.HalfNormal(\"η\", sigma=1)\n",
    "    cov_func = η**2 * pm.gp.cov.ExpQuad(1, ℓ)\n",
    "    \n",
    "    gp = pm.gp.Marginal(cov_func=cov_func)\n",
    "    σ = pm.HalfNormal(\"σ\", sigma=0.5)\n",
    "    \n",
    "    y_obs = gp.marginal_likelihood(\"y\", X=X, y=y, sigma=σ)\n",
    "    \n",
    "    trace = pm.sample(1000, chains=2)\n",
    "\n",
    "    # Posterior predictive\n",
    "    X_new = np.linspace(0, 10, 100)[:, None]\n",
    "    f_pred = gp.conditional(\"f_pred\", X_new)\n",
    "    pred_samples = pm.sample_posterior_predictive(trace, var_names=[\"f_pred\"], model=gp_model)\n",
    "\n",
    "# Plot\n",
    "plt.plot(X, y, \"o\", label=\"Observed data\")\n",
    "plt.plot(X_new, pred_samples[\"f_pred\"].mean(0), label=\"Posterior mean\")\n",
    "plt.fill_between(X_new.ravel(), \n",
    "                 np.percentile(pred_samples[\"f_pred\"], 5, axis=0),\n",
    "                 np.percentile(pred_samples[\"f_pred\"], 95, axis=0), alpha=0.3)\n",
    "plt.legend()\n",
    "plt.show()"
   ]
  },
  {
   "cell_type": "code",
   "execution_count": null,
   "id": "ef23421b-d664-4046-acbe-1f2918beaa40",
   "metadata": {},
   "outputs": [],
   "source": [
    "# Q3\n",
    "import pymc as pm\n",
    "import numpy as np\n",
    "import pytensor.tensor as pt\n",
    "import matplotlib.pyplot as plt\n",
    "\n",
    "# Simulate logistic data\n",
    "np.random.seed(42)\n",
    "X = np.random.randn(200, 2)\n",
    "w_true = np.array([1.5, -2.0])\n",
    "logits = X @ w_true\n",
    "y = np.random.binomial(n=1, p=1 / (1 + np.exp(-logits)))\n",
    "\n",
    "with pm.Model() as vi_model:\n",
    "    # Bayesian NN with one hidden layer\n",
    "    weights_1 = pm.Normal(\"w1\", mu=0, sigma=1, shape=(2, 5))\n",
    "    bias_1 = pm.Normal(\"b1\", mu=0, sigma=1, shape=(5,))\n",
    "    \n",
    "    weights_2 = pm.Normal(\"w2\", mu=0, sigma=1, shape=(5,))\n",
    "    bias_2 = pm.Normal(\"b2\", mu=0, sigma=1)\n",
    "    \n",
    "    hidden = pm.math.tanh(pt.dot(X, weights_1) + bias_1)\n",
    "    out = pm.math.dot(hidden, weights_2) + bias_2\n",
    "    \n",
    "    y_obs = pm.Bernoulli(\"y_obs\", logit_p=out, observed=y)\n",
    "    \n",
    "    approx = pm.fit(10000, method=\"advi\", obj_optimizer=pm.adagrad(learning_rate=0.01))\n",
    "    trace_vi = approx.sample(1000)"
   ]
  }
 ],
 "metadata": {
  "kernelspec": {
   "display_name": "Python 3 (ipykernel)",
   "language": "python",
   "name": "python3"
  },
  "language_info": {
   "codemirror_mode": {
    "name": "ipython",
    "version": 3
   },
   "file_extension": ".py",
   "mimetype": "text/x-python",
   "name": "python",
   "nbconvert_exporter": "python",
   "pygments_lexer": "ipython3",
   "version": "3.11.6"
  }
 },
 "nbformat": 4,
 "nbformat_minor": 5
}
